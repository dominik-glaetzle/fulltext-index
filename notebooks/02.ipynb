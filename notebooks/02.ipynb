{
 "cells": [
  {
   "cell_type": "code",
   "execution_count": 1,
   "metadata": {},
   "outputs": [
    {
     "name": "stderr",
     "output_type": "stream",
     "text": [
      "[nltk_data] Downloading package punkt to /Users/dominik/nltk_data...\n",
      "[nltk_data]   Package punkt is already up-to-date!\n",
      "[nltk_data] Downloading package punkt_tab to\n",
      "[nltk_data]     /Users/dominik/nltk_data...\n",
      "[nltk_data]   Package punkt_tab is already up-to-date!\n"
     ]
    }
   ],
   "source": [
    "import sys\n",
    "import os\n",
    "import json\n",
    "sys.path.append(\"../src\")\n",
    "from inverted_index import InvertedIndex\n"
   ]
  },
  {
   "cell_type": "code",
   "execution_count": 2,
   "metadata": {},
   "outputs": [
    {
     "name": "stdout",
     "output_type": "stream",
     "text": [
      "Loaded existing index.\n",
      "found documents with search term rocket: [77, 136, 144, 163, 290, 344, 598, 636, 643, 696, 697, 747, 908, 942, 968, 974, 1061, 1102, 1103, 1145, 1180, 1292, 1326, 1349, 1350, 1351, 1366, 1379]\n"
     ]
    }
   ],
   "source": [
    "index = InvertedIndex()\n",
    "\n",
    "if not os.path.exists(\"../data/index.json\"):\n",
    "    with open(\"../data/cranfield-data-list.json\", \"r\", encoding=\"utf-8\") as data:\n",
    "        documents = json.load(data)\n",
    "\n",
    "    for doc in documents:\n",
    "        doc_id = doc[\"id\"]\n",
    "        doc_title = doc[\"title\"]\n",
    "        doc_author = doc[\"author\"]\n",
    "        doc_text = doc[\"body\"]\n",
    "\n",
    "        full_text = f\"{doc_title} {doc_text} {doc_author}\"\n",
    "        index.add_doc(doc_id, full_text)\n",
    "\n",
    "    index.write_to_disk()\n",
    "    print(\"Created new index.\")\n",
    "else:\n",
    "    index.load_from_disk()\n",
    "    print(f\"Loaded existing index.\")\n",
    "\n",
    "search_term = (input(\"Enter search term: \"))\n",
    "results = index.search(search_term)\n",
    "print(f\"found documents with search term {search_term}:\", sorted(results))"
   ]
  }
 ],
 "metadata": {
  "kernelspec": {
   "display_name": "jupyter-SWtUIMP9-py3.11",
   "language": "python",
   "name": "python3"
  },
  "language_info": {
   "codemirror_mode": {
    "name": "ipython",
    "version": 3
   },
   "file_extension": ".py",
   "mimetype": "text/x-python",
   "name": "python",
   "nbconvert_exporter": "python",
   "pygments_lexer": "ipython3",
   "version": "3.11.8"
  }
 },
 "nbformat": 4,
 "nbformat_minor": 2
}
